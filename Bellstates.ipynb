{
 "cells": [
  {
   "metadata": {
    "collapsed": true
   },
   "cell_type": "markdown",
   "source": "Do the Hello World example on a 2-qubit Bell state",
   "id": "24852a3d11331de0"
  },
  {
   "metadata": {},
   "cell_type": "markdown",
   "source": "Step 1: Map the problem to circuits and operators",
   "id": "a8f6f02eb20e7363"
  },
  {
   "metadata": {
    "ExecuteTime": {
     "end_time": "2025-10-23T13:30:16.533907Z",
     "start_time": "2025-10-23T13:30:16.499554Z"
    }
   },
   "cell_type": "code",
   "source": [
    "from qiskit import QuantumCircuit\n",
    "from qiskit.quantum_info import Statevector\n",
    "\n",
    "qc = QuantumCircuit(2)\n",
    "qc.h(0)\n",
    "qc.cx(0, 1)\n",
    "\n",
    "qc.draw('mpl')"
   ],
   "id": "97d51618889525ca",
   "outputs": [
    {
     "data": {
      "text/plain": [
       "<Figure size 287.294x200.667 with 1 Axes>"
      ],
      "image/png": "[encoded data removed]"
     },
     "execution_count": 6,
     "metadata": {},
     "output_type": "execute_result"
    }
   ],
   "execution_count": 6
  },
  {
   "metadata": {
    "ExecuteTime": {
     "end_time": "2025-10-23T13:30:42.324307Z",
     "start_time": "2025-10-23T13:30:42.319103Z"
    }
   },
   "cell_type": "code",
   "source": [
    "state = Statevector.from_instruction(qc)\n",
    "print(state)\n",
    "print(state.draw('text'))"
   ],
   "id": "800b50932637d57c",
   "outputs": [
    {
     "name": "stdout",
     "output_type": "stream",
     "text": [
      "Statevector([0.70710678+0.j, 0.        +0.j, 0.        +0.j,\n",
      "             0.70710678+0.j],\n",
      "            dims=(2, 2))\n",
      "[0.70710678+0.j,0.        +0.j,0.        +0.j,0.70710678+0.j]\n"
     ]
    }
   ],
   "execution_count": 20
  }
 ],
 "metadata": {
  "kernelspec": {
   "display_name": "Python 3",
   "language": "python",
   "name": "python3"
  },
  "language_info": {
   "codemirror_mode": {
    "name": "ipython",
    "version": 2
   },
   "file_extension": ".py",
   "mimetype": "text/x-python",
   "name": "python",
   "nbconvert_exporter": "python",
   "pygments_lexer": "ipython2",
   "version": "2.7.6"
  }
 },
 "nbformat": 4,
 "nbformat_minor": 5
}
